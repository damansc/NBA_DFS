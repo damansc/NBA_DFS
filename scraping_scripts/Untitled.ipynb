{
 "cells": [
  {
   "cell_type": "code",
   "execution_count": 2,
   "metadata": {},
   "outputs": [],
   "source": [
    "import pandas as pd\n",
    "from bs4 import BeautifulSoup\n",
    "import requests\n",
    "import numpy as np\n",
    "import os"
   ]
  },
  {
   "cell_type": "code",
   "execution_count": 3,
   "metadata": {},
   "outputs": [],
   "source": [
    "def get_boxscore_links(year='2020'):\n",
    "\n",
    "    \"\"\"\n",
    "    retrieves all links to every single available box score.\n",
    "    It seems that bball reference lags behind a bit.\n",
    "    I ran today (1/6/20) and only through 1/4/20 is up.\n",
    "    \"\"\"\n",
    "\n",
    "    months = ['october', 'november', 'december', 'january', 'february', 'march', 'april']\n",
    "    root = 'https://www.basketball-reference.com'\n",
    "    boxscore_links = []\n",
    "    for month in months:\n",
    "        source = requests.get(f'https://www.basketball-reference.com/leagues/NBA_{year}_games-{month}.html')\n",
    "        soup = BeautifulSoup(source.content, 'html.parser')\n",
    "        a_soup = soup.findAll('a')\n",
    "        a_tags = []\n",
    "\n",
    "        for a in a_soup:\n",
    "            if (a.get('href')[0:4] == '/box') & (len(a.get('href')) == 28):\n",
    "                a_tags.append(a.get('href'))\n",
    "\n",
    "        for x in a_tags:\n",
    "            boxscore_links.append(root + x)\n",
    "\n",
    "    return boxscore_links\n"
   ]
  },
  {
   "cell_type": "code",
   "execution_count": 15,
   "metadata": {},
   "outputs": [
    {
     "name": "stdout",
     "output_type": "stream",
     "text": [
      "[]\n"
     ]
    }
   ],
   "source": [
    "box_links = get_boxscore_links()\n",
    "source = requests.get(box_links[100])\n",
    "soup = BeautifulSoup(source.content, 'html.parser')\n",
    "table = soup.find('table')\n",
    "    \n",
    "# gets the th values for each table head\n",
    "test = soup.findAll('style', text='name')\n",
    "print(test)\n"
   ]
  },
  {
   "cell_type": "code",
   "execution_count": null,
   "metadata": {},
   "outputs": [],
   "source": []
  }
 ],
 "metadata": {
  "kernelspec": {
   "display_name": "Python 3",
   "language": "python",
   "name": "python3"
  },
  "language_info": {
   "codemirror_mode": {
    "name": "ipython",
    "version": 3
   },
   "file_extension": ".py",
   "mimetype": "text/x-python",
   "name": "python",
   "nbconvert_exporter": "python",
   "pygments_lexer": "ipython3",
   "version": "3.7.4"
  }
 },
 "nbformat": 4,
 "nbformat_minor": 2
}
